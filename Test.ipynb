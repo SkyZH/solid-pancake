{
 "cells": [
  {
   "cell_type": "code",
   "execution_count": 16,
   "metadata": {},
   "outputs": [],
   "source": [
    "%matplotlib notebook\n",
    "from matplotlib import pyplot as plt\n",
    "import mpl_finance as finance\n",
    "import pandas as pd\n",
    "import numpy as np\n",
    "from datetime import datetime\n",
    "from pymongo import MongoClient\n",
    "from DCE import generalize as DCE_READ\n",
    "from CFFEX import generalize as CFFEX_READ\n",
    "from SHFE import generalize as SHFE_READ\n",
    "from CZCE import generalize as CZCE_READ\n",
    "from __future__ import print_function\n",
    "from ipywidgets import interact, interactive, fixed, interact_manual\n",
    "import ipywidgets as widgets\n",
    "import cherrypy"
   ]
  },
  {
   "cell_type": "code",
   "execution_count": 17,
   "metadata": {},
   "outputs": [],
   "source": [
    "client = MongoClient('mongodb://localhost:27017/')\n",
    "db = client.futures"
   ]
  },
  {
   "cell_type": "code",
   "execution_count": 31,
   "metadata": {},
   "outputs": [],
   "source": [
    "a = SHFE_READ(db.shves.find({ 'DATE': \"20180705\" }))[['ClosePrice', 'Volume', 'OpenInterest']]\n",
    "b = CFFEX_READ(db.cffexes.find({ 'tradingday': \"20180705\" }))[['ClosePrice', 'Volume', 'OpenInterest']]\n",
    "c = DCE_READ(db.dces.find({ 'date': \"180704\" }))[['ClosePrice', 'Volume', 'OpenInterest']]\n",
    "d = CZCE_READ(db.czces.find({ 'date': \"180705\" }))[['ClosePrice', 'Volume', 'OpenInterest']]"
   ]
  },
  {
   "cell_type": "code",
   "execution_count": 19,
   "metadata": {},
   "outputs": [
    {
     "data": {
      "application/vnd.jupyter.widget-view+json": {
       "model_id": "070bcbe2a12542e4acee132850537510",
       "version_major": 2,
       "version_minor": 0
      },
      "text/plain": [
       "interactive(children=(Text(value='CZCE', description='Market'), Text(value='AP', description='Name'), Text(val…"
      ]
     },
     "metadata": {},
     "output_type": "display_data"
    }
   ],
   "source": [
    "@interact(Market='CZCE', Name='AP', Month='807')\n",
    "def f(Market, Name, Month):\n",
    "    market, name, month = Market, Name, Month\n",
    "    data = None\n",
    "    try:\n",
    "        if market == 'SHFE':\n",
    "            data = SHFE_READ(db.shves.find({ 'PRODUCTNAME': name, 'DELIVERYMONTH': month }))\n",
    "        elif market == 'CFFEX':\n",
    "            data = CFFEX_READ(db.cffexes.find({ 'instrumentid': name + month }))\n",
    "        elif market == 'DCE':\n",
    "            data = DCE_READ(df.dces.find({ 'instrumentname': name, 'instrumentmonth': month }))\n",
    "        elif market == 'CZCE':\n",
    "            data = CZCE_READ(db.czces.find({ 'instrumentid': name + month }))\n",
    "        print('%s %s%s -> %d entries' % (market, name, month, len(data)))\n",
    "        if len(data) > 0:\n",
    "            data.set_index('TradingDay', inplace=True)\n",
    "            w = widgets.SelectMultiple(\n",
    "                options=data.columns,\n",
    "                value=['OpenPrice'],\n",
    "                description='Fruits',\n",
    "                disabled=False\n",
    "            )\n",
    "            fig, ax = plt.subplots()\n",
    "            plt.title(\"%s %s%s\" % (market, name, month))\n",
    "            def on_change(v):\n",
    "                ax.clear()\n",
    "                data[list(w.value)].plot(ax=ax)\n",
    "            w.observe(on_change, names='value')\n",
    "            display(w)\n",
    "    except:\n",
    "        print('Error')\n"
   ]
  },
  {
   "cell_type": "code",
   "execution_count": 30,
   "metadata": {
    "scrolled": false
   },
   "outputs": [
    {
     "data": {
      "application/vnd.jupyter.widget-view+json": {
       "model_id": "ad297a155d18462d8b67ecc64e6db720",
       "version_major": 2,
       "version_minor": 0
      },
      "text/plain": [
       "interactive(children=(Text(value='CZCE', description='Market'), Text(value='AP', description='Name'), Text(val…"
      ]
     },
     "metadata": {},
     "output_type": "display_data"
    }
   ],
   "source": [
    "@interact(Market='CZCE', Name='AP', Month='807')\n",
    "def f(Market, Name, Month):\n",
    "    market, name, month = Market, Name, Month\n",
    "    data = None\n",
    "    try:\n",
    "        if market == 'SHFE':\n",
    "            data = SHFE_READ(db.shves.find({ 'PRODUCTNAME': name, 'DELIVERYMONTH': month }))\n",
    "        elif market == 'CFFEX':\n",
    "            data = CFFEX_READ(db.cffexes.find({ 'instrumentid': name + month }))\n",
    "        elif market == 'DCE':\n",
    "            data = DCE_READ(df.dces.find({ 'instrumentname': name, 'instrumentmonth': month }))\n",
    "        elif market == 'CZCE':\n",
    "            data = CZCE_READ(db.czces.find({ 'instrumentid': name + month }))\n",
    "        print('%s %s%s -> %d entries' % (market, name, month, len(data)))\n",
    "        if len(data) > 0:\n",
    "            data.set_index('TradingDay', inplace=True)\n",
    "            fig, ax = plt.subplots()\n",
    "            plt.title(\"%s %s%s\" % (market, name, month))\n",
    "            data = data[data['OpenPrice'] != 0]\n",
    "            finance.candlestick2_ochl(ax, data['OpenPrice'], data['ClosePrice'], data['HighestPrice'], data['LowestPrice'], width=1)\n",
    "            plt.show()\n",
    "    except:\n",
    "        print('Error')\n"
   ]
  },
  {
   "cell_type": "code",
   "execution_count": null,
   "metadata": {},
   "outputs": [],
   "source": []
  }
 ],
 "metadata": {
  "kernelspec": {
   "display_name": "Python 3",
   "language": "python",
   "name": "python3"
  },
  "language_info": {
   "codemirror_mode": {
    "name": "ipython",
    "version": 3
   },
   "file_extension": ".py",
   "mimetype": "text/x-python",
   "name": "python",
   "nbconvert_exporter": "python",
   "pygments_lexer": "ipython3",
   "version": "3.6.5"
  }
 },
 "nbformat": 4,
 "nbformat_minor": 2
}
